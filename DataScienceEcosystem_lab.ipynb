{
 "cells": [
  {
   "cell_type": "markdown",
   "metadata": {},
   "source": [
    "<center>\n",
    "    <img src=\"https://cf-courses-data.s3.us.cloud-object-storage.appdomain.cloud/IBMDeveloperSkillsNetwork-DS0105EN-SkillsNetwork/labs/Module2/images/SN_web_lightmode.png\" width=\"300\" alt=\"cognitiveclass.ai logo\">\n",
    "</center>\n"
   ]
  },
  {
   "cell_type": "markdown",
   "metadata": {},
   "source": [
    "#### Add your code below following the instructions given in the course\n"
   ]
  },
  {
   "cell_type": "markdown",
   "metadata": {},
   "source": [
    "Exercício 2: Criar célula markdown com título do notebook\n",
    "\n",
    "Crie uma célula markdown com o título Data Science Tools and Ecosystemusando o cabeçalho estilo H1."
   ]
  },
  {
   "cell_type": "markdown",
   "metadata": {},
   "source": [
    "# Data Science Tools and Ecosystem"
   ]
  },
  {
   "cell_type": "markdown",
   "metadata": {},
   "source": [
    "Exercício 3 - Crie uma célula de markdown para uma introdução\n",
    "\n",
    "Escreva uma frase introdutória sobre o caderno, como a seguinte:\n",
    "\n",
    "In this notebook, Data Science Tools and Ecosystem are summarized."
   ]
  },
  {
   "cell_type": "markdown",
   "metadata": {},
   "source": [
    "In this notebook, Data Science Tools and Ecosystem are summarized."
   ]
  },
  {
   "cell_type": "markdown",
   "metadata": {},
   "source": [
    "Objectives:\n",
    "- List popular languages for Data Science\n",
    "- Simple arithmetic expression to mutiply then add integers\n",
    "- To know data science tools"
   ]
  },
  {
   "cell_type": "markdown",
   "metadata": {},
   "source": [
    "Exercício 4 - Crie uma célula de markdown para listar linguagens de ciência de dados\n",
    "\n",
    "Inicie a célula com uma linha de visão geral como:"
   ]
  },
  {
   "cell_type": "markdown",
   "metadata": {},
   "source": [
    "Some of the popular languages that Data Scientists use are:\n",
    "1. Python\n",
    "2. Java\n",
    "3. C++\n",
    "4. R"
   ]
  },
  {
   "cell_type": "markdown",
   "metadata": {},
   "source": [
    "Exercício 5 - Crie uma célula de markdown para listar bibliotecas de ciência de dados\n",
    "\n",
    "Adicione uma linha de visão geral à célula como:"
   ]
  },
  {
   "cell_type": "markdown",
   "metadata": {},
   "source": [
    "Some of the commonly used libraries used by Data Scientists include:\n",
    "1. Matplotlib\n",
    "2. Numpy\n",
    "3. Scikit-learn\n",
    "4. Ggplot2"
   ]
  },
  {
   "cell_type": "markdown",
   "metadata": {},
   "source": [
    "Exercício 6 - Crie uma célula de markdown com uma tabela de ferramentas de ciência de dados\n",
    "\n",
    "Crie uma tabela de coluna única nesta célula com a primeira linha contendo o cabeçalho Data Science Tools. As três linhas subsequentes na tabela devem indicar três ferramentas de código aberto de ambiente de desenvolvimento usadas em ciência de dados."
   ]
  },
  {
   "cell_type": "markdown",
   "metadata": {
    "tags": []
   },
   "source": [
    "|Data Science Tools|\n",
    "--------------------\n",
    "|Jupyter Notebook|\n",
    "|VS Code|\n",
    "|RStudio|"
   ]
  },
  {
   "cell_type": "markdown",
   "metadata": {},
   "source": [
    "Exercício 7 - Crie uma célula markdown introduzindo exemplos de expressões aritméticas\n",
    "\n",
    "Adicione uma linha nesta célula com título estilo H3 com texto como:"
   ]
  },
  {
   "cell_type": "markdown",
   "metadata": {
    "tags": []
   },
   "source": [
    "### Below are a few examples of evaluating arithmetic expressions in Python"
   ]
  },
  {
   "cell_type": "code",
   "execution_count": 2,
   "metadata": {
    "tags": []
   },
   "outputs": [],
   "source": [
    "a = 2\n",
    "b = 3\n",
    "c = a + b\n",
    "d = c**2\n",
    "e = d/2"
   ]
  },
  {
   "cell_type": "markdown",
   "metadata": {},
   "source": [
    "Exercício 8 - Crie uma célula de código para multiplicar e adicionar números\n",
    "\n",
    "Nesta célula de código, avalie a expressão (3*4)+5"
   ]
  },
  {
   "cell_type": "code",
   "execution_count": 3,
   "metadata": {
    "tags": []
   },
   "outputs": [
    {
     "data": {
      "text/plain": [
       "17"
      ]
     },
     "execution_count": 3,
     "metadata": {},
     "output_type": "execute_result"
    }
   ],
   "source": [
    "#This a simple arithmetic expression to mutiply then add integers\n",
    "(3*4)+5"
   ]
  },
  {
   "cell_type": "markdown",
   "metadata": {},
   "source": [
    "Exercício 9 - Crie uma célula de código para converter minutos em horas\n",
    "\n",
    "Nesta célula de código, escreva uma expressão que converta 200 minutesem hours"
   ]
  },
  {
   "cell_type": "code",
   "execution_count": 4,
   "metadata": {
    "tags": []
   },
   "outputs": [
    {
     "data": {
      "text/plain": [
       "3.3333333333333335"
      ]
     },
     "execution_count": 4,
     "metadata": {},
     "output_type": "execute_result"
    }
   ],
   "source": [
    "#This will convert 200 minutes to hours by diving by 60\n",
    "200/60"
   ]
  },
  {
   "cell_type": "markdown",
   "metadata": {},
   "source": [
    "Exercício 10 - Insira uma célula de markdown para listar objetivo\n",
    "\n",
    "Abaixo da célula de introdução criada no Exercício 3, insira uma nova célula markdown para listar os objetivos que este caderno cobriu (ou seja, algumas das principais lições do curso). Nesta nova célula, comece com uma linha introdutória intitulada: Objectives:em negrito. Em seguida, usando um unordered list(marcadores), indique de 3 a 5 itens cobertos neste caderno, como List popular languages for Data Science"
   ]
  },
  {
   "cell_type": "markdown",
   "metadata": {},
   "source": [
    "Exercício 11 - Crie uma célula markdown para indicar o nome do autor\n",
    "\n",
    "Nesta célula markdown, a célula markdown inclui o seguinte texto Author em H2 style heading. Inclua seu name como texto regular abaixo da palavra Author"
   ]
  },
  {
   "cell_type": "markdown",
   "metadata": {},
   "source": [
    "## Author\n",
    "Name: Thiago C. C. Nunes"
   ]
  },
  {
   "cell_type": "markdown",
   "metadata": {},
   "source": [
    "Exercício 12 - Compartilhe seu notebook pelo GitHub\n",
    "\n",
    "Envie seu notebook para um repositório público no GitHub\n",
    "\n",
    "[Jupyter Notebook IBM Exercises ](https://github.com/TiaghoC/testrepo/blob/main/DataScienceEcosystem.ipynb)"
   ]
  },
  {
   "cell_type": "markdown",
   "metadata": {},
   "source": [
    "Exercício 13 - Faça uma captura de tela da primeira página do caderno e salve-a como 1-notebook.png (As imagens podem ser salvas com a extensão .jpg ou .png.)"
   ]
  },
  {
   "cell_type": "code",
   "execution_count": null,
   "metadata": {},
   "outputs": [],
   "source": []
  }
 ],
 "metadata": {
  "kernelspec": {
   "display_name": "Python",
   "language": "python",
   "name": "conda-env-python-py"
  },
  "language_info": {
   "codemirror_mode": {
    "name": "ipython",
    "version": 3
   },
   "file_extension": ".py",
   "mimetype": "text/x-python",
   "name": "python",
   "nbconvert_exporter": "python",
   "pygments_lexer": "ipython3",
   "version": "3.7.12"
  }
 },
 "nbformat": 4,
 "nbformat_minor": 4
}
