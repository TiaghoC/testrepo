{
 "cells": [
  {
   "cell_type": "markdown",
   "id": "5ad21254",
   "metadata": {},
   "source": [
    "Exercício 2: Criar célula markdown com título do notebook\n",
    "\n",
    "Crie uma célula markdown com o título Data Science Tools and Ecosystemusando o cabeçalho estilo H1."
   ]
  },
  {
   "cell_type": "markdown",
   "id": "0a9db0bd",
   "metadata": {},
   "source": [
    "# Data Science Tools and Ecosystem"
   ]
  },
  {
   "cell_type": "markdown",
   "id": "85a1ace6",
   "metadata": {},
   "source": [
    "Exercício 3 - Crie uma célula de markdown para uma introdução\n",
    "\n",
    "Escreva uma frase introdutória sobre o caderno, como a seguinte:\n",
    "\n",
    "In this notebook, Data Science Tools and Ecosystem are summarized."
   ]
  },
  {
   "cell_type": "markdown",
   "id": "aeea6e49",
   "metadata": {},
   "source": [
    "In this notebook, Data Science Tools and Ecosystem are summarized."
   ]
  },
  {
   "cell_type": "markdown",
   "id": "1d863e18",
   "metadata": {},
   "source": [
    "Objectives:\n",
    "- List popular languages for Data Science\n",
    "- Simple arithmetic expression to mutiply then add integers\n",
    "- To know data science tools"
   ]
  },
  {
   "cell_type": "markdown",
   "id": "4a99d704",
   "metadata": {},
   "source": [
    "Exercício 4 - Crie uma célula de markdown para listar linguagens de ciência de dados\n",
    "\n",
    "Inicie a célula com uma linha de visão geral como:"
   ]
  },
  {
   "cell_type": "markdown",
   "id": "107d08d0",
   "metadata": {},
   "source": [
    "Some of the popular languages that Data Scientists use are:\n",
    "1. Python\n",
    "2. Java\n",
    "3. C++\n",
    "4. R"
   ]
  },
  {
   "cell_type": "markdown",
   "id": "db636019",
   "metadata": {},
   "source": [
    "Exercício 5 - Crie uma célula de markdown para listar bibliotecas de ciência de dados\n",
    "\n",
    "Adicione uma linha de visão geral à célula como:"
   ]
  },
  {
   "cell_type": "markdown",
   "id": "81d3a011",
   "metadata": {},
   "source": [
    "Some of the commonly used libraries used by Data Scientists include:\n",
    "1. Matplotlib\n",
    "2. Numpy\n",
    "3. Scikit-learn\n",
    "4. Ggplot2"
   ]
  },
  {
   "cell_type": "markdown",
   "id": "c08f1e02",
   "metadata": {},
   "source": [
    "Exercício 6 - Crie uma célula de markdown com uma tabela de ferramentas de ciência de dados\n",
    "\n",
    "Crie uma tabela de coluna única nesta célula com a primeira linha contendo o cabeçalho Data Science Tools. As três linhas subsequentes na tabela devem indicar três ferramentas de código aberto de ambiente de desenvolvimento usadas em ciência de dados."
   ]
  },
  {
   "cell_type": "markdown",
   "id": "18a86027",
   "metadata": {},
   "source": [
    "|Data Science Tools|\n",
    "--------------------\n",
    "|Jupyter Notebook|\n",
    "|VS Code|\n",
    "|RStudio|"
   ]
  },
  {
   "cell_type": "markdown",
   "id": "7e4f0782",
   "metadata": {},
   "source": [
    "Exercício 7 - Crie uma célula markdown introduzindo exemplos de expressões aritméticas\n",
    "\n",
    "Adicione uma linha nesta célula com título estilo H3 com texto como:"
   ]
  },
  {
   "cell_type": "markdown",
   "id": "5f0d6446",
   "metadata": {},
   "source": [
    "### Below are a few examples of evaluating arithmetic expressions in Python"
   ]
  },
  {
   "cell_type": "code",
   "execution_count": 3,
   "id": "909b5e25",
   "metadata": {},
   "outputs": [],
   "source": [
    "a = 2\n",
    "b = 3\n",
    "c = a + b\n",
    "d = c**2\n",
    "e = d/2"
   ]
  },
  {
   "cell_type": "markdown",
   "id": "523b521e",
   "metadata": {},
   "source": [
    "Exercício 8 - Crie uma célula de código para multiplicar e adicionar números\n",
    "\n",
    "Nesta célula de código, avalie a expressão (3*4)+5"
   ]
  },
  {
   "cell_type": "code",
   "execution_count": 5,
   "id": "8b4b9705",
   "metadata": {},
   "outputs": [
    {
     "data": {
      "text/plain": [
       "17"
      ]
     },
     "execution_count": 5,
     "metadata": {},
     "output_type": "execute_result"
    }
   ],
   "source": [
    "#This a simple arithmetic expression to mutiply then add integers\n",
    "(3*4)+5"
   ]
  },
  {
   "cell_type": "markdown",
   "id": "a6e12e62",
   "metadata": {},
   "source": [
    "Exercício 9 - Crie uma célula de código para converter minutos em horas\n",
    "\n",
    "Nesta célula de código, escreva uma expressão que converta 200 minutesem hours"
   ]
  },
  {
   "cell_type": "code",
   "execution_count": 7,
   "id": "f5ddf858",
   "metadata": {},
   "outputs": [
    {
     "data": {
      "text/plain": [
       "3.3333333333333335"
      ]
     },
     "execution_count": 7,
     "metadata": {},
     "output_type": "execute_result"
    }
   ],
   "source": [
    "#This will convert 200 minutes to hours by diving by 60\n",
    "200/60"
   ]
  },
  {
   "cell_type": "markdown",
   "id": "a3ad08f1",
   "metadata": {},
   "source": [
    "Exercício 10 - Insira uma célula de markdown para listar objetivo\n",
    "\n",
    "Abaixo da célula de introdução criada no Exercício 3, insira uma nova célula markdown para listar os objetivos que este caderno cobriu (ou seja, algumas das principais lições do curso). Nesta nova célula, comece com uma linha introdutória intitulada: Objectives:em negrito. Em seguida, usando um unordered list(marcadores), indique de 3 a 5 itens cobertos neste caderno, como List popular languages for Data Science"
   ]
  },
  {
   "cell_type": "markdown",
   "id": "eea643e3",
   "metadata": {},
   "source": [
    "Exercício 11 - Crie uma célula markdown para indicar o nome do autor\n",
    "\n",
    "Nesta célula markdown, a célula markdown inclui o seguinte texto Author em H2 style heading. Inclua seu name como texto regular abaixo da palavra Author"
   ]
  },
  {
   "cell_type": "markdown",
   "id": "497e2482",
   "metadata": {},
   "source": [
    "## Author\n",
    "Name: Thiago C. C. Nunes"
   ]
  },
  {
   "cell_type": "markdown",
   "id": "733945be",
   "metadata": {},
   "source": [
    "Exercício 12 - Compartilhe seu notebook pelo GitHub\n",
    "\n",
    "Envie seu notebook para um repositório público no GitHub"
   ]
  }
 ],
 "metadata": {
  "kernelspec": {
   "display_name": "Python 3 (ipykernel)",
   "language": "python",
   "name": "python3"
  },
  "language_info": {
   "codemirror_mode": {
    "name": "ipython",
    "version": 3
   },
   "file_extension": ".py",
   "mimetype": "text/x-python",
   "name": "python",
   "nbconvert_exporter": "python",
   "pygments_lexer": "ipython3",
   "version": "3.11.5"
  }
 },
 "nbformat": 4,
 "nbformat_minor": 5
}
